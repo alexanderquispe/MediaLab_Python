{
 "cells": [
  {
   "cell_type": "markdown",
   "id": "5cdd56f1",
   "metadata": {},
   "source": [
    "## Assigment 1 - Part 2 - Sofia Pichihua"
   ]
  },
  {
   "cell_type": "code",
   "execution_count": 7,
   "id": "fd1def64",
   "metadata": {},
   "outputs": [],
   "source": [
    "tuple1 = (\"Orange\", [10, 20, 30], (5, 15, 25))\n",
    "tuple2 = ([7, 8], [9, 1], [10, 7])\n"
   ]
  },
  {
   "cell_type": "code",
   "execution_count": 19,
   "id": "1d4ad097",
   "metadata": {},
   "outputs": [
    {
     "name": "stdout",
     "output_type": "stream",
     "text": [
      "10\n"
     ]
    }
   ],
   "source": [
    "#Question1\n",
    "print(tuple1[1][0])"
   ]
  },
  {
   "cell_type": "code",
   "execution_count": 13,
   "id": "3c5f0a17",
   "metadata": {},
   "outputs": [
    {
     "name": "stdout",
     "output_type": "stream",
     "text": [
      "(5, 15, 25)\n"
     ]
    }
   ],
   "source": [
    "#Question2\n",
    "print(tuple1[2])"
   ]
  },
  {
   "cell_type": "code",
   "execution_count": 27,
   "id": "7c72797f",
   "metadata": {},
   "outputs": [
    {
     "name": "stdout",
     "output_type": "stream",
     "text": [
      "('Orange', [10, 20, 30], (5, 15, 25))\n"
     ]
    },
    {
     "data": {
      "text/plain": [
       "2"
      ]
     },
     "execution_count": 27,
     "metadata": {},
     "output_type": "execute_result"
    }
   ],
   "source": [
    "print(tuple1)\n",
    "tuple1.index((5,15,25))"
   ]
  },
  {
   "cell_type": "markdown",
   "id": "5ab52af8",
   "metadata": {},
   "source": [
    "#Question3\n",
    "Tuple cannot be modified. So I cannot change the value. "
   ]
  },
  {
   "cell_type": "code",
   "execution_count": 17,
   "id": "f1a57af3",
   "metadata": {},
   "outputs": [
    {
     "data": {
      "text/plain": [
       "3"
      ]
     },
     "execution_count": 17,
     "metadata": {},
     "output_type": "execute_result"
    }
   ],
   "source": [
    "#Question4\n",
    "len(tuple1)"
   ]
  },
  {
   "cell_type": "code",
   "execution_count": 18,
   "id": "7864671b",
   "metadata": {},
   "outputs": [],
   "source": [
    "#Question5"
   ]
  },
  {
   "cell_type": "code",
   "execution_count": null,
   "id": "43b9965a",
   "metadata": {},
   "outputs": [],
   "source": [
    "#Question6"
   ]
  }
 ],
 "metadata": {
  "kernelspec": {
   "display_name": "Python 3 (ipykernel)",
   "language": "python",
   "name": "python3"
  },
  "language_info": {
   "codemirror_mode": {
    "name": "ipython",
    "version": 3
   },
   "file_extension": ".py",
   "mimetype": "text/x-python",
   "name": "python",
   "nbconvert_exporter": "python",
   "pygments_lexer": "ipython3",
   "version": "3.11.5"
  }
 },
 "nbformat": 4,
 "nbformat_minor": 5
}

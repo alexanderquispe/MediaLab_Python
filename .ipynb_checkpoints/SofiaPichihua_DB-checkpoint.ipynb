{
 "cells": [
  {
   "cell_type": "markdown",
   "id": "fc236b61",
   "metadata": {},
   "source": [
    "## Database"
   ]
  },
  {
   "cell_type": "markdown",
   "id": "e417111e",
   "metadata": {},
   "source": [
    "Sofia Pichihua  \n",
    "a.Database: [Geo Peru](https://visor.geoperu.gob.pe/)  \n",
    "b.Information:  Data from last census (2017) about TIC and internet penetration in Peru  \n",
    "c. Interest: I am interested in comparing internet population by city and other indicators in order to work in an digital communication campaign about privacy and cybersecurity with news articles.  \n"
   ]
  }
 ],
 "metadata": {
  "kernelspec": {
   "display_name": "Python 3 (ipykernel)",
   "language": "python",
   "name": "python3"
  },
  "language_info": {
   "codemirror_mode": {
    "name": "ipython",
    "version": 3
   },
   "file_extension": ".py",
   "mimetype": "text/x-python",
   "name": "python",
   "nbconvert_exporter": "python",
   "pygments_lexer": "ipython3",
   "version": "3.11.5"
  }
 },
 "nbformat": 4,
 "nbformat_minor": 5
}

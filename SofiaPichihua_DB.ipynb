{
 "cells": [
  {
   "cell_type": "markdown",
   "id": "fc236b61",
   "metadata": {},
   "source": [
    "## Database"
   ]
  },
  {
   "cell_type": "markdown",
   "id": "e417111e",
   "metadata": {},
   "source": [
    "Sofia Pichihua  \n",
    "a.Database: [Geo Peru](https://visor.geoperu.gob.pe/)  \n",
    "b.Information:  Data from last census (2017) about TIC and internet penetration in Peru  \n",
    "c. Interest: I am interested in comparing internet population by city and other indicators in order to work in an digital communication campaign about privacy and cybersecurity with news articles.  \n"
   ]
  },
  {
   "cell_type": "code",
   "execution_count": 5,
   "id": "4a1bec67",
   "metadata": {},
   "outputs": [
    {
     "ename": "SyntaxError",
     "evalue": "invalid syntax (3277417328.py, line 1)",
     "output_type": "error",
     "traceback": [
      "\u001b[1;36m  Cell \u001b[1;32mIn[5], line 1\u001b[1;36m\u001b[0m\n\u001b[1;33m    git init\u001b[0m\n\u001b[1;37m        ^\u001b[0m\n\u001b[1;31mSyntaxError\u001b[0m\u001b[1;31m:\u001b[0m invalid syntax\n"
     ]
    }
   ],
   "source": [
    "git init \n"
   ]
  },
  {
   "cell_type": "code",
   "execution_count": null,
   "id": "e40e3e83",
   "metadata": {},
   "outputs": [],
   "source": []
  }
 ],
 "metadata": {
  "kernelspec": {
   "display_name": "Python 3 (ipykernel)",
   "language": "python",
   "name": "python3"
  },
  "language_info": {
   "codemirror_mode": {
    "name": "ipython",
    "version": 3
   },
   "file_extension": ".py",
   "mimetype": "text/x-python",
   "name": "python",
   "nbconvert_exporter": "python",
   "pygments_lexer": "ipython3",
   "version": "3.11.5"
  }
 },
 "nbformat": 4,
 "nbformat_minor": 5
}
